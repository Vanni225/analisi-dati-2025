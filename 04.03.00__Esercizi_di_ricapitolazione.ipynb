{
 "cells": [
  {
   "cell_type": "code",
   "execution_count": 1,
   "metadata": {},
   "outputs": [],
   "source": [
    "from scipy.stats import binom\n",
    "from scipy.stats import poisson"
   ]
  },
  {
   "cell_type": "markdown",
   "metadata": {},
   "source": [
    "# Esercizi sulle distribuzioni discrete"
   ]
  },
  {
   "cell_type": "markdown",
   "metadata": {},
   "source": [
    "* Durante la pandemia molti esami furono sostituiti da test online a risposta multipla. Se un test prevede 5 domande, ciascuna con 3 risposte, calcolare la probabilità di indovinare almeno 4 risposte a caso. Come cambia la probabilità se invece ci sono 5 risposte?"
   ]
  },
  {
   "cell_type": "markdown",
   "metadata": {},
   "source": [
    "**Soluzione:**\n",
    "\n",
    "Se scelgo a caso una risposta su 3, la probabilità di scegliere quella giusta è $p=1/3$.\n",
    "Il  numero di domande è $N=5$, quindi devo trovare la probabilità che il numero di risposte giuste sia $n\\ge 4$.\n",
    "Il problema è binomiale, quindi devo calcolare $P(n\\ge 4; N, p)$."
   ]
  },
  {
   "cell_type": "code",
   "execution_count": 2,
   "metadata": {},
   "outputs": [
    {
     "name": "stdout",
     "output_type": "stream",
     "text": [
      "P(N >= 4; 5, 0.33) = 0.4115%\n",
      "P(N >= 4; 5, 0.20) = 0.0320%\n",
      "P(N >= 4; 5, 0.50) = 3.1250%\n"
     ]
    }
   ],
   "source": [
    "p = 1.0/3.0\n",
    "N = 5\n",
    "n_min = 4\n",
    "def print_prob():\n",
    "    b = binom(N, p)\n",
    "    prob = 1.0 - b.cdf(n_min)\n",
    "    print(\"P(N >= {}; {}, {:.2f}) = {:.4%}\".format(n_min, N, p, prob))\n",
    "print_prob()\n",
    "p = 1.0/5.0\n",
    "print_prob()\n",
    "p = 1.0/2.0\n",
    "print_prob()"
   ]
  },
  {
   "cell_type": "markdown",
   "metadata": {},
   "source": [
    "* In una produzione industriale viene riscontrato lo 0.1% di componenti difettosi. Calcolare la probabilità di averne almeno 2 difettosi in uno scatolo con 1000 componenti. Ripetere il calcolo utilizzando la distribuzione di Poisson."
   ]
  },
  {
   "cell_type": "markdown",
   "metadata": {},
   "source": [
    "**Soluzione:**\n",
    "\n",
    "Il problema è binomiale con $p=0.001$ e $N=1\\,000$. Dobbiamo calcolare $P(n\\ge 2; N, p)$. Siccome $N$ è molto grande e $p$ molto piccolo, l'approssimazione poissoniana è ragionevole, con $\\nu = Np$: $P(n\\ge 2; \\nu)$."
   ]
  },
  {
   "cell_type": "code",
   "execution_count": 3,
   "metadata": {},
   "outputs": [
    {
     "name": "stdout",
     "output_type": "stream",
     "text": [
      "caso binomiale:\n",
      "P(N >= 2; 1000, 0.0010) = 8.0209%\n",
      "caso poissoniano:\n",
      "P(N >= 2; 1000, 0.0010) = 8.0301%\n"
     ]
    }
   ],
   "source": [
    "p = 0.001\n",
    "N = 1000\n",
    "n_min = 2\n",
    "def print_prob(distr):\n",
    "    prob = 1.0 - distr.cdf(n_min)\n",
    "    print(\"P(N >= {}; {}, {:.4f}) = {:.4%}\".format(n_min, N, p, prob))\n",
    "print(\"caso binomiale:\")\n",
    "print_prob(binom(N, p))\n",
    "print(\"caso poissoniano:\")\n",
    "nu = N*p\n",
    "print_prob(poisson(nu))"
   ]
  },
  {
   "cell_type": "markdown",
   "metadata": {},
   "source": [
    "* Supponiamo che in un paese la probabilità che una spedizione tracciabile vada persa sia il 3 per mille. Calcolare la probabilità che un venditore su interenet abbia almeno 3 feedback negativi su 500 acquisti per colpa delle poste. Ripetere il calcolo assumendo distribuzione di probabilità binominale e poissoniana."
   ]
  },
  {
   "cell_type": "markdown",
   "metadata": {},
   "source": [
    "**Soluzione:**\n",
    "\n",
    "Il problema è praticamente identico al precedente."
   ]
  },
  {
   "cell_type": "code",
   "execution_count": 4,
   "metadata": {},
   "outputs": [
    {
     "name": "stdout",
     "output_type": "stream",
     "text": [
      "caso binomiale:\n",
      "P(N >= 3; 500, 0.0030) = 6.5359%\n",
      "caso poissoniano:\n",
      "P(N >= 3; 500, 0.0030) = 6.5642%\n"
     ]
    }
   ],
   "source": [
    "p = 0.003\n",
    "N = 500\n",
    "n_min = 3\n",
    "def print_prob(distr):\n",
    "    prob = 1.0 - distr.cdf(n_min)\n",
    "    print(\"P(N >= {}; {}, {:.4f}) = {:.4%}\".format(n_min, N, p, prob))\n",
    "print(\"caso binomiale:\")\n",
    "print_prob(binom(N, p))\n",
    "print(\"caso poissoniano:\")\n",
    "nu = N*p\n",
    "print_prob(poisson(nu))"
   ]
  },
  {
   "cell_type": "markdown",
   "metadata": {},
   "source": [
    "* Una ditta produce monitor 4K (3840 x 2160 pixel). Calcolare quale deve essere la probabilità massima di avere un pixel morto se la ditta deve garantire di avere il 95% dei monitor con al massimo un pixel morto. Si può approssimare la distribuzione binomiale con quella di Poisson?"
   ]
  },
  {
   "cell_type": "markdown",
   "metadata": {},
   "source": [
    "**Soluzione:**\n",
    "\n",
    "Assumiamo un modello poissoniano. La probabilità di avere un pixel morto è $p$. Per invertire l'equazione con metodi numerici, utilizziamo la funzione di ```scipy.optimize``` [bisect](https://docs.scipy.org/doc/scipy/reference/generated/scipy.optimize.bisect.html), di cui parleremo nel notebook dedicato."
   ]
  },
  {
   "cell_type": "code",
   "execution_count": 32,
   "metadata": {},
   "outputs": [
    {
     "name": "stdout",
     "output_type": "stream",
     "text": [
      "N, p =  8294400 4.25e-08\n",
      "0.9507079172483758\n",
      "N, p =  8294400 4e-08\n",
      "N, p =  8294400 5e-08\n",
      "N, p =  8294400 4.5e-08\n",
      "N, p =  8294400 4.2500000000000003e-08\n",
      "N, p =  8294400 4.3750000000000005e-08\n",
      "N, p =  8294400 4.3125000000000004e-08\n",
      "N, p =  8294400 4.28125e-08\n",
      "N, p =  8294400 4.296875e-08\n",
      "N, p =  8294400 4.2890625e-08\n",
      "N, p =  8294400 4.28515625e-08\n",
      "N, p =  8294400 4.2832031250000004e-08\n",
      "N, p =  8294400 4.2841796875000005e-08\n",
      "N, p =  8294400 4.28466796875e-08\n",
      "N, p =  8294400 4.2844238281250004e-08\n",
      "N, p =  8294400 4.2843017578125004e-08\n",
      "4.2843017578125004e-08\n"
     ]
    }
   ],
   "source": [
    "from scipy.optimize import bisect\n",
    "N = 3840*2160\n",
    "p = 0.425e-7\n",
    "def accept_prob(p):\n",
    "    nu = N*p\n",
    "    print(\"N, p = \", N, p)\n",
    "    distr = poisson(nu)\n",
    "    return distr.cdf(1)\n",
    "print(accept_prob(p))\n",
    "def f(p):\n",
    "    return accept_prob(p) - 0.95\n",
    "p_sol = bisect(f, 0.4e-7, 0.5e-7)\n",
    "print(p_sol)"
   ]
  },
  {
   "cell_type": "markdown",
   "metadata": {},
   "source": [
    "* In un anno si stima che circa 17000 meteoriti colpiscano la terra con una massa da qualche grammo a mezzo chilo[*] . Calcolare la probabilità che entro vent'anni cada almeno un meteorite sul terrazzo di copertura di un edificio. Assumere una superficie di 300 metri quadri.\n",
    "\n",
    "$[*]$ [Meteorites on Earth: how many fall per year and why don't we see them?](https://www.iberdrola.com/innovation/meteorites-earth)"
   ]
  },
  {
   "cell_type": "markdown",
   "metadata": {},
   "source": [
    "**Soluzione:**\n",
    "\n",
    "La distribuzione del numero $n$ di meteoriti che cadono sul terrazzo in vent'anni segue la distribuzione di Poisson perché il numero di meteoriti che colpiscono la terra è variabile da anno in anno con numero atteso $\\nu=17000$ in un anno.\n",
    "\n",
    "Il raggio terrestre vale circa $R=6378\\mathrm{km}$ e la superficie è $S=4\\pi R^2$. Il numero atteso di meteoriti sul tetto può essere valutato con una proporzione, ossia paria $\\nu \\times 20 * s /S$, con $s=300\\mathrm{m}$.\n",
    "\n",
    "La probabilità di avere $n\\ge 1$ meteoriti è:\n",
    "\n",
    "$P(n\\ge 1) = 1 - P(n=0) = 1 - e^{-\\nu}$\n",
    "\n",
    "Per $\\nu \\ll 1$ posso scrivere:\n",
    "\n",
    "$P(n\\ge 1) = 1 - e^{-\\nu} \\simeq 1 - 1 + \\nu = \\nu$\n"
   ]
  },
  {
   "cell_type": "code",
   "execution_count": 43,
   "metadata": {},
   "outputs": [
    {
     "name": "stdout",
     "output_type": "stream",
     "text": [
      "n atteso in 20 anni = P(n >= 1) =  1.9953600737145745e-07\n"
     ]
    }
   ],
   "source": [
    "import math\n",
    "R = 6378e3 # metri\n",
    "S = 4*math.pi*R**2\n",
    "s0 = 300\n",
    "N = 17000\n",
    "n = 20*N*s0/S\n",
    "print(\"n atteso in 20 anni = P(n >= 1) = \" , n)"
   ]
  },
  {
   "cell_type": "markdown",
   "metadata": {},
   "source": [
    "* In un prato cadono 25mm di pioggia, che vengono misurati con un pluviometro che ha una base di 10cm$^2$. Calcolare la varianza e la deviazione standard della misura, assumendo che le gocce di pioggia abbiano tutte un volume di 0.1ml[*]\n",
    "\n",
    "$[*]$ [Rain drop size and speed of a falling rain drop](https://www.baranidesign.com/faq-articles/2020/1/19/rain-drop-size-and-speed-of-a-falling-rain-drop)"
   ]
  },
  {
   "cell_type": "markdown",
   "metadata": {},
   "source": [
    "**Soluzione:**\n",
    "\n",
    "Il volume di una gocciolina è $0.1\\mathrm{ml} = 10^{-7}\\mathrm{m}^3$.\n"
   ]
  },
  {
   "cell_type": "markdown",
   "metadata": {},
   "source": [
    "* In Italia nel 2019 per incidenti d'auto sono morte 3.173 persone e 241.384 sono risultate ferite (fonte: [ISTAT](https://www.istat.it/it/archivio/245757)) su un totale di [59.816.673 abitanti](http://demo.istat.it/popres/index.php?anno=2019). Qual è la probabilità che a Pozzuoli (79.752 abitanti) ci siano meno di 2 morti in un anno (assumendo una probabilità uniforme sul territorio nazionale)?"
   ]
  },
  {
   "cell_type": "markdown",
   "metadata": {},
   "source": [
    "**Soluzione:**\n",
    "\n",
    "..."
   ]
  },
  {
   "cell_type": "markdown",
   "metadata": {},
   "source": [
    "* Il 17/3/2021 il Paul-Erlich-Institut ha circolato un [comunicato](https://www.pei.de/SharedDocs/Downloads/EN/newsroom-en/hp-news/faq-temporary-suspension-astrazeneca.pdf) che ha portato alla sospenzione del vaccino AstraZeneca. Erano stati osservati 7 casi (su 1.7 milioni) di una rara trombosi quandi ne era atteso, in media 1. Calcolare qual è la probabilità di avere 7 o più casi quando ne sono attesi 1. Calcolare la stessa probabilità quando se ne attendono invece 2 o 3."
   ]
  },
  {
   "cell_type": "markdown",
   "metadata": {},
   "source": [
    "**Soluzione:**\n",
    "\n",
    "..."
   ]
  },
  {
   "cell_type": "markdown",
   "metadata": {},
   "source": [
    "* in Italia ad una certa data del 2022 c'erano 50.701.722 persone vaccinate con almeno due dosi contro il Sars-Cov-2 su una popolazione di circa 59.816.673 abitanti. Il 56% delle persone in terapia intensiva risultava vaccinata con almeno due dosi. Calcolare il rischio relativo di andare in terapia infettiva per vaccinati e non."
   ]
  },
  {
   "cell_type": "markdown",
   "metadata": {},
   "source": [
    "**Soluzione:**\n",
    "\n",
    "..."
   ]
  },
  {
   "cell_type": "markdown",
   "metadata": {},
   "source": [
    "* In una città gli autobus partono ad orari a caso anziché secondo un orario regolare. In un'ora passano 3 autobus, in media. Calcolare la probabilità che entro 5 minuti successivi al passaggio di un autobus ne passi almeno un altro."
   ]
  },
  {
   "cell_type": "markdown",
   "metadata": {},
   "source": [
    "**Soluzione:**\n",
    "\n",
    "..."
   ]
  },
  {
   "cell_type": "markdown",
   "metadata": {},
   "source": [
    "* si vuole misurare l'efficienza di un rivelatore contando le particelle che vengono rivelate. Assumendo che l'efficienza sia vicina al 90%, calcolare quante particelle vanno acquisite in modo da avere una deviazione standard del valore misurto intorno all'1%."
   ]
  },
  {
   "cell_type": "markdown",
   "metadata": {},
   "source": [
    "**Soluzione:**\n",
    "\n",
    "..."
   ]
  },
  {
   "cell_type": "markdown",
   "metadata": {},
   "source": [
    "* i vuole misurare l'intensità dei fasci di un collider di elettroni e positroni[*] contando in numero di coppie elettrone-positrone prodotti attravreso un rivelatore posto a piccolo angolo. In un anno vengono acquisti 123456 eventi di questo tipo. Stimare l'incertezza relativa nella misura di intensità come rapporto tra deviazione standard e valore atteso.\n",
    "\n",
    "$[*]$ tecnicamente, questa si chiama misura di *luminosità integrata*"
   ]
  },
  {
   "cell_type": "markdown",
   "metadata": {},
   "source": [
    "**Soluzione:**\n",
    "\n",
    "..."
   ]
  },
  {
   "cell_type": "markdown",
   "metadata": {},
   "source": [
    "* Ad una certa data, in Italia 1.200.000 persone erano state identificate come infette (e in isolamneto) da Covid-19. Assumiamo che altrettante persone siano infette e circolassero tranquillamente senza sapere di essere infetti. In un treno ci sono 200 persone. Trovare la probabilità che almeno 4 siano infette."
   ]
  },
  {
   "cell_type": "markdown",
   "metadata": {},
   "source": [
    "**Soluzione:**\n",
    "\n",
    "..."
   ]
  },
  {
   "cell_type": "markdown",
   "metadata": {},
   "source": [
    "* Un rivelatore posto in un esperimento su un acceleratore è attraversato da 100 particelle in media per ogni collissione registrata. Considerando che il sistema di acquisizione riesce ad acquisire segnali di 150 particelle contemporaneamente, al massimo, calcolare la frazione di collisioni per la quale il sistema di aquisizione va in \"saturazione\". Si assuma, per semplicità, che il numero di particelle che attraversa il rivelatore segua una distribuzione di Poisson, anche se questo non è necessariamente vero.\n",
    "\n",
    "$[*]$ questa frazione si chiama tecnicamente frazione di *tempo morto* del sistema di acquisizione."
   ]
  },
  {
   "cell_type": "markdown",
   "metadata": {},
   "source": [
    "**Soluzione:**\n",
    "\n",
    "..."
   ]
  },
  {
   "cell_type": "markdown",
   "metadata": {},
   "source": [
    "* Un rivelatore di particelle è fatto da 5 piani di rivelatori piani, ciascuno con efficienza del 90%. Consideriamo di identificare una particella se, attraversando tutti i 5 piani, dà un segnale su almeno 3 dei 5 rivelatori. Calcolare l'efficienza di questa selezione, e dire qual è la distribuzione del numero di particelle selezionate in un tempo $\\Delta t$."
   ]
  },
  {
   "cell_type": "markdown",
   "metadata": {},
   "source": [
    "**Soluzione:**\n",
    "\n",
    "..."
   ]
  },
  {
   "cell_type": "code",
   "execution_count": null,
   "metadata": {},
   "outputs": [],
   "source": []
  }
 ],
 "metadata": {
  "kernelspec": {
   "display_name": "Python 3 (ipykernel)",
   "language": "python",
   "name": "python3"
  },
  "language_info": {
   "codemirror_mode": {
    "name": "ipython",
    "version": 3
   },
   "file_extension": ".py",
   "mimetype": "text/x-python",
   "name": "python",
   "nbconvert_exporter": "python",
   "pygments_lexer": "ipython3",
   "version": "3.11.6"
  }
 },
 "nbformat": 4,
 "nbformat_minor": 4
}
