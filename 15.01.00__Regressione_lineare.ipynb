{
 "cells": [
  {
   "cell_type": "markdown",
   "metadata": {},
   "source": [
    "# Regressione lineare\n",
    "\n",
    "L'applicazione del metodo del minimo $\\chi^2$ è nel caso di una funzione $f$ lineare:\n",
    "\n",
    "$y=f(x;a,b) = a+b\\,x$\n",
    "\n",
    "dobbiamo minimizzare:\n",
    "\n",
    "$\\displaystyle \\chi^2(a,b) = -2\\log p = \\sum_{i=1}^N\\frac{(y_i-a-b\\,x_i)^2}{\\sigma_i^2} + \\text{const.}$\n",
    "\n",
    "che è equivalente a massimizzare la funzione di verosimiglianza $p$.\n",
    "\n",
    "L'equazione sopra è vera *a meno di un termine costante* che non contribuisce alla minimizzazione."
   ]
  },
  {
   "cell_type": "markdown",
   "metadata": {},
   "source": [
    "## Pesi\n",
    "\n",
    "Conviene definire i *persi* $w_i$:\n",
    "\n",
    "$\\displaystyle w_i = \\frac{1/\\sigma_i^2}{1/\\sigma^2} = \\frac{\\sigma^2}{\\sigma_i^2}$\n",
    "\n",
    "dove a sua volta $\\sigma$ è definito da:\n",
    "\n",
    "$\\displaystyle \\frac{1}{\\sigma^2} = \\sum_{i=1}^N\\frac{1}{\\sigma_i^2}$\n",
    "\n",
    "Questa scelta garantisce che $\\sum_{i=1}^Nw_i=1$."
   ]
  },
  {
   "cell_type": "markdown",
   "metadata": {},
   "source": [
    "## Minimizzazione del $\\chi^2$\n",
    "\n",
    "Possiamo quindi scrivere:\n",
    "\n",
    "$\\displaystyle \\chi^2(a, b) = \\frac{1}{\\sigma^2}\\sum_{i=1}^Nw_i(y_i-a-b\\,x_i)^2$"
   ]
  },
  {
   "cell_type": "markdown",
   "metadata": {},
   "source": [
    "Si può trovare il minimo di $\\chi^2(a,b)$ in maniera analitica imponendo:\n",
    "\n",
    "$\\displaystyle \\frac{\\partial \\chi^2(a,b)}{\\partial a} = 0$\n",
    "\n",
    "$\\displaystyle \\frac{\\partial \\chi^2(a,b)}{\\partial b} = 0$"
   ]
  },
  {
   "cell_type": "markdown",
   "metadata": {},
   "source": [
    "Le derivate si possono scrivere come:\n",
    "\n",
    "$\\displaystyle \\frac{\\partial \\chi^2(a,b)}{\\partial a} = \\frac{1}{\\sigma^2}\\sum_{i=1}^Nw_i\\frac{\\partial}{\\partial a}(y_i-a-b\\,x_i)^2=\n",
    "-2 \\frac{1}{\\sigma^2}\\sum_{i=1}^Nw_i(y_i-a-b\\,x_i) = \n",
    "\\frac{2}{\\sigma^2}\\left(-\\sum_{i=1}^Nw_i y_i+a+b\\sum_{i=1}^Nw_ix_i\\right)\n",
    "$\n",
    "\n",
    "$\\displaystyle \\frac{\\partial \\chi^2(a,b)}{\\partial b} = \\frac{1}{\\sigma^2}\\sum_{i=1}^N w_i\\frac{\\partial}{\\partial b}(y_i-a-b\\,x_i)^2=\n",
    "-2 \\frac{1}{\\sigma^2}\\sum_{i=1}^Nw_i(y_i-a-b\\,x_i)x_i = \n",
    "\\frac{2}{\\sigma^2}\\left(-\\sum_{i=1}^Nw_i x_i y_i + a\\sum_{i=1}^Nw_ix_i+b\\sum_{i=1}^Nw_ix_i^2\\right)\n",
    "$"
   ]
  },
  {
   "cell_type": "markdown",
   "metadata": {},
   "source": [
    "Possiamo introdurre le *medie pesate* per le quantità $\\alpha_i$, che di volta in volta potranno essere $x_i$, $y_i$, $x_i y_i$, $x_i^2$, ecc.:\n",
    "\n",
    "$\\displaystyle \\left<\\alpha\\right> = \\sum_{i=1}^Nw_i\\alpha_i$"
   ]
  },
  {
   "cell_type": "markdown",
   "metadata": {},
   "source": [
    "Riscriviamo quindi:\n",
    "\n",
    "$\\displaystyle \\frac{\\partial \\chi^2(a,b)}{\\partial a} =\n",
    "\\frac{2}{\\sigma^2}\\left(-\\left<y\\right>+a+b\\left<x\\right>\\right)\n",
    "$\n",
    "\n",
    "$\\displaystyle \\frac{\\partial \\chi^2(a,b)}{\\partial b} = \n",
    "\\frac{2}{\\sigma^2}\\left(-\\left<x y\\right> + a\\left<x\\right>+b\\left<x^2\\right>\\right)\n",
    "$"
   ]
  },
  {
   "cell_type": "markdown",
   "metadata": {},
   "source": [
    "Uguagliando le derivate a zero, si ottiene quindi:\n",
    "\n",
    "$\\displaystyle \\left<y\\right> = a+b\\left<x\\right>$\n",
    "\n",
    "$\\displaystyle \\left<x y\\right> = a\\left<x\\right>  + b\\left<x^2\\right>$"
   ]
  },
  {
   "cell_type": "markdown",
   "metadata": {},
   "source": [
    "In forma matriciale:\n",
    "\n",
    "\n",
    "$\\displaystyle\n",
    "\\left(\\begin{array}{c}\\left<y\\right>\\\\\\left<xy\\right>\\end{array}\n",
    "\\right)=\n",
    "\\left(\\begin{array}{cc} \n",
    "1 & \\left<x\\right> \\\\\n",
    "\\left<x\\right>  & \\left<x^2\\right> \n",
    "\\end{array}\n",
    "\\right)\n",
    "\\left(\\begin{array}{c} a\\\\b\\end{array}\n",
    "\\right)\n",
    "$"
   ]
  },
  {
   "cell_type": "markdown",
   "metadata": {},
   "source": [
    "L'inversione dell'equazione matriciale dà:\n",
    "\n",
    "$\\displaystyle\n",
    "\\left(\\begin{array}{c} a\\\\b\\end{array}\n",
    "\\right)\n",
    "=\n",
    "\\left(\\begin{array}{cc} \n",
    "1 & \\left<x\\right> \\\\\n",
    "\\left<x\\right>  & \\left<x^2\\right> \n",
    "\\end{array}\n",
    "\\right)^{-1}\n",
    "\\left(\\begin{array}{c}\\left<y\\right>\\\\\\left<xy\\right>\\end{array}\n",
    "\\right)\n",
    "$"
   ]
  },
  {
   "cell_type": "markdown",
   "metadata": {},
   "source": [
    "Per calcolare l'inversione consideriamo che:\n",
    "\n",
    "$\\mathrm{det}\\left[C^{-1}\\right] = \\left<x^2\\right> - \\left<x\\right>^2 = \n",
    "\\left<(x - \\left<x\\right>)^2\\right> =\n",
    "\\mathbb{V}\\mathrm{ar}[x]$\n",
    "\n",
    "$\\displaystyle\\left(\\begin{array}{cc} \n",
    "1 & \\left<x\\right> \\\\\n",
    "\\left<x\\right>  & \\left<x^2\\right> \n",
    "\\end{array}\n",
    "\\right)^{-1}\n",
    "=\\frac{1}{\\mathbb{V}\\mathrm{ar}[x]}\n",
    "\\left(\n",
    "\\begin{array}{cc}\n",
    "\\left<x^2\\right> & -\\left<x\\right> \\\\\n",
    "-\\left<x\\right> & 1\n",
    "\\end{array}\n",
    "\\right)\n",
    "$"
   ]
  },
  {
   "cell_type": "markdown",
   "metadata": {},
   "source": [
    "Dopo qualche passaggio:\n",
    "\n",
    "$\\displaystyle b = \\hat{b} = \n",
    "\\frac{\\left<x y\\right>-\\left<x\\right>\\left<y\\right>}{\\mathbb{V}\\mathrm{ar}[x]} =\n",
    "\\frac{\\mathbb{C}\\mathrm{ov}(x, y)}{\\mathbb{V}\\mathrm{ar}[x]}$\n",
    "\n",
    "$a = \\hat{a} = \\left<y\\right> -\\hat{b}\\left<x\\right>$"
   ]
  },
  {
   "cell_type": "markdown",
   "metadata": {},
   "source": [
    "## Stima degli errori con la matrice hessiana\n",
    "\n",
    "Gli errori si possono stimare come:\n",
    "\n",
    "$\\displaystyle  \\frac{1}{\\sigma_{\\hat{a}}^2} = -\\frac{\\partial^2 \\log p}{\\partial a^2} = \\frac{1}{2}\\frac{\\partial^2 \\chi^2}{\\partial a^2}$\n",
    "\n",
    "$\\displaystyle  \\frac{1}{\\sigma_{\\hat{b}}^2} = -\\frac{\\partial^2 \\log p}{\\partial b^2} = \\frac{1}{2}\\frac{\\partial^2 \\chi^2}{\\partial b^2}$\n",
    "\n",
    "Questi sono gli elementi diagonali della matrice di covarianza inversa, che ha come elemento non diagonale:\n",
    "\n",
    "$\\displaystyle  C_{ab}^{-1} = -\\frac{\\partial^2 \\log p}{\\partial a\\,\\partial b} = \\frac{1}{2}\\frac{\\partial^2 \\chi^2}{\\partial a\\,\\partial b}$"
   ]
  },
  {
   "cell_type": "markdown",
   "metadata": {},
   "source": [
    "Il calcolo delle derivate seconde si ottiene derivando le derivate prime, riportate di seguto per comodità:\n",
    "\n",
    "$\\displaystyle \\frac{\\partial \\chi^2(a,b)}{\\partial a} =\n",
    "\\frac{2}{\\sigma^2}\\left(\\left<y\\right>+a+b\\left<x\\right>\\right)\n",
    "$\n",
    "\n",
    "$\\displaystyle \\frac{\\partial \\chi^2(a,b)}{\\partial b} = \n",
    "\\frac{2}{\\sigma^2}\\left(-\\left<x y\\right> + a\\left<x\\right>+b\\left<x^2\\right>\\right)\n",
    "$"
   ]
  },
  {
   "cell_type": "markdown",
   "metadata": {},
   "source": [
    "Le derivate seconde sono quindi:\n",
    "\n",
    "$\\displaystyle \\frac{\\partial^2 \\chi^2(a,b)}{\\partial a^2} =\n",
    "\\frac{2}{\\sigma^2}\n",
    "$\n",
    "\n",
    "$\\displaystyle \\frac{\\partial^2 \\chi^2(a,b)}{\\partial b^2} = \n",
    "\\frac{2 \\left<x^2\\right>}{\\sigma^2}\n",
    "$\n",
    "\n",
    "$\\displaystyle \\frac{\\partial^2 \\chi^2(a,b)}{\\partial a\\,\\partial b} =\n",
    "\\frac{2 \\left<x\\right>}{\\sigma^2}\n",
    "$"
   ]
  },
  {
   "cell_type": "markdown",
   "metadata": {},
   "source": [
    "La matrice *inversa* di covarianza è quindi, ricordando il fattore $1/2$ davanti alla derivata seconda del $\\chi^2$:\n",
    "\n",
    "$\\displaystyle C^{-1} = \\frac{1}{\\sigma^2}\\left(\n",
    "\\begin{array}{cc}\n",
    "1 & \\left<x\\right> \\\\\n",
    "\\left<x\\right> & \\left<x^2\\right>\n",
    "\\end{array}\n",
    "\\right)$"
   ]
  },
  {
   "cell_type": "markdown",
   "metadata": {},
   "source": [
    "L'inversione è simile a quanto abbiamo già calcolato in precedenza. La matrice di covarianza è quindi:\n",
    "\n",
    "$\\displaystyle C =\\frac{\\sigma^2}{\\sigma_x^2}\\left(\n",
    "\\begin{array}{cc}\n",
    "\\left<x^2\\right> & - \\left<x\\right> \\\\\n",
    "- \\left<x\\right> & 1\n",
    "\\end{array}\n",
    "\\right)\n",
    "$"
   ]
  },
  {
   "cell_type": "markdown",
   "metadata": {},
   "source": [
    "Procedendo col calcolo si ottiene:\n",
    "\n",
    "$\\displaystyle \\sigma_{\\hat{b}}^2 = \\frac{\\sigma^2}{\\sigma_x^2}$\n",
    "\n",
    "$\\displaystyle \\sigma_{\\hat{a}}^2 = \\frac{\\sigma^2}{\\sigma_x^2} \\left<x^2\\right> = \n",
    "\\sigma_{\\hat{b}}^2 \\left<x^2\\right>\n",
    "$\n",
    "\n",
    "\n",
    "$\\displaystyle \\mathbb{C}\\mathrm{ov}(\\hat{a}, \\hat{b}) = - \\frac{\\sigma^2}{\\sigma_x^2} \\left<x\\right> = \n",
    "- \\sigma_{\\hat{b}}^2\\left<x\\right>\n",
    "$"
   ]
  },
  {
   "cell_type": "markdown",
   "metadata": {},
   "source": [
    "## Stima degli errori dai residui del fit\n",
    "\n",
    "Al posto di $\\sigma^2$ definito in precedenza, si preferisce stimare l'errore medio in base alle effettive deviazioni dei punti sperimentali dalle retta ottenuta dal fit. Si usa quindi, nelle formule precedenti, per gli errori su $\\hat{a}$ e $\\hat{b}$:\n",
    "\n",
    "$\\displaystyle \\hat{\\sigma}^2 = \\frac{1}{N-2}\\sum_{i=1}^Nw_i\\left(y_i -\\hat{y}_i\\right)^2$\n",
    "\n",
    "Dove abbiamo definito $\\hat{y}_i = f(x_i; \\hat{a}, \\hat{b}) = \\hat{a}+\\hat{b}\\, x$, ossia i valori delle $y$ sulla curva interpolata.\n",
    "\n",
    "L'uso di $N-2$ al demonimatore tiene conto del numero di gradi di libertà determinati dal fit, ossia le stime dei parametri $a$ e $b$. In questo modo si evita un possibile **bias**."
   ]
  },
  {
   "cell_type": "markdown",
   "metadata": {},
   "source": [
    "I valori $\\varepsilon_i = y_i -\\hat{y}_i$ prendono il nome di **residui**.\n",
    "\n",
    "Possiamo scrivere quindi:\n",
    "\n",
    "$\\displaystyle \\hat{\\sigma}^2 = \\frac{1}{N-2}\\left<\\varepsilon^2\\right>$"
   ]
  },
  {
   "cell_type": "markdown",
   "metadata": {},
   "source": [
    "<span style=\"color:blue\">Assumento pesi tutti uguali, l'uso di $\\hat{\\sigma}$ permette il calcolo dell'errore sui parametri $\\hat{a}$ e $\\hat{b}$ anche quandi l'errore sulle singole misure $y_i$ non sono noti.</span>"
   ]
  },
  {
   "cell_type": "markdown",
   "metadata": {},
   "source": [
    "<span style=\"color:blue\">Nota: questo calcolo dell'errore è il default nella funzione ```curve_fit``` che già abbiamo usato. Per usare gli errori $\\sigma_i$ anziché l'errore quadratico medio, bisogna abilitare l'opzione ```absolute_sigma```, che di default è ```False```."
   ]
  },
  {
   "cell_type": "markdown",
   "metadata": {},
   "source": [
    "## Il Coefficiente di determinazione $R^2$\n",
    "\n",
    "È poco usato in fisica, ma si trova in diverse liberie il **coefficiente di determinazione** $R^2$ che è definito come:\n",
    "\n",
    "$\\displaystyle R^2 = \\frac{\\sum_{i=1}^N(\\hat{y}_i-\\left<y\\right>)^2}{\\sum_{i=1}^N(y_i-\\left<y\\right>)^2}$\n",
    "\n",
    "$R^2$ varia tra 0 e 1 e talvolta è espresso come percentuale.\n",
    "\n",
    "$R^2=1$ corrisponde a punti totalmente allineati sulla curva (deve essere $\\hat{y}_i = y_i$), mentre $R^2=0$ corrisponde ad una retta perfettamente orizzontale, per cui la curva stimata prevede che $y$ sia insensibile ad $x$."
   ]
  },
  {
   "cell_type": "code",
   "execution_count": 1,
   "metadata": {},
   "outputs": [],
   "source": [
    "import math\n",
    "import numpy as np\n",
    "import matplotlib.pyplot as plt\n",
    "import pandas as pd\n",
    "from scipy import stats"
   ]
  },
  {
   "cell_type": "markdown",
   "metadata": {},
   "source": [
    "Generiamo una sequenza di punti allineati lungo una linea con dispersione verticale generata in modo gaussiano"
   ]
  },
  {
   "cell_type": "code",
   "execution_count": 2,
   "metadata": {},
   "outputs": [
    {
     "data": {
      "image/png": "[encoded data removed]",
      "text/plain": [
       "<Figure size 1000x600 with 1 Axes>"
      ]
     },
     "metadata": {},
     "output_type": "display_data"
    }
   ],
   "source": [
    "n_points = 20\n",
    "x_min = 0.0; x_max = 10.0\n",
    "sigma = 1.5\n",
    "a0 = 3.0; b0 = 1.5\n",
    "x = np.sort(np.random.uniform(x_min, x_max, size=n_points))\n",
    "y = np.random.normal(a0 + x*b0, sigma)\n",
    "plt.figure(figsize=(10, 6))\n",
    "plt.errorbar(x, y, yerr=sigma, fmt='o')\n",
    "plt.xlabel('x')\n",
    "plt.ylabel('y')\n",
    "plt.show()"
   ]
  },
  {
   "cell_type": "markdown",
   "metadata": {},
   "source": [
    "Calcolo della media di $x$ e $y$ e dei vettori con le deviazioni"
   ]
  },
  {
   "cell_type": "code",
   "execution_count": 4,
   "metadata": {},
   "outputs": [],
   "source": [
    "x_mean, y_mean = x.mean(), y.mean()\n",
    "dx, dy = x - x_mean, y - y_mean\n",
    "dxdy = dx*dy; dx2 = dx*dx"
   ]
  },
  {
   "cell_type": "markdown",
   "metadata": {},
   "source": [
    "Calcolo dei coefficienti del fit"
   ]
  },
  {
   "cell_type": "code",
   "execution_count": 5,
   "metadata": {},
   "outputs": [
    {
     "name": "stdout",
     "output_type": "stream",
     "text": [
      "a, b = 1.5852, 1.6526\n"
     ]
    }
   ],
   "source": [
    "dxdy_mean, dx2_mean = dxdy.mean(), dx2.mean()\n",
    "b_fit = dxdy_mean/dx2_mean\n",
    "a_fit = y_mean - b_fit*x_mean\n",
    "print(\"a, b = {:.4f}, {:.4f}\".format(a_fit, b_fit))\n",
    "def fit_line(x):\n",
    "    return a_fit + x*b_fit"
   ]
  },
  {
   "cell_type": "code",
   "execution_count": 6,
   "metadata": {},
   "outputs": [
    {
     "data": {
      "image/png": "[encoded data removed]",
      "text/plain": [
       "<Figure size 1000x600 with 1 Axes>"
      ]
     },
     "metadata": {},
     "output_type": "display_data"
    }
   ],
   "source": [
    "plt.figure(figsize=(10, 6))\n",
    "plt.errorbar(x, y, yerr=sigma, fmt='o')\n",
    "plt.plot([x_min, x_max],[fit_line(x_min), fit_line(x_max)])\n",
    "plt.xlabel('x')\n",
    "plt.ylabel('y')\n",
    "plt.show()"
   ]
  },
  {
   "cell_type": "markdown",
   "metadata": {},
   "source": [
    "Calcolo dei valori interpolati e dei residui"
   ]
  },
  {
   "cell_type": "code",
   "execution_count": 7,
   "metadata": {},
   "outputs": [],
   "source": [
    "y_fit = fit_line(x)\n",
    "res = y - y_fit\n",
    "res2 = res*res"
   ]
  },
  {
   "cell_type": "markdown",
   "metadata": {},
   "source": [
    "Calcoliamo la stima degli errori. Il significato del $p$-value sarà definito nelle prossime lezioni."
   ]
  },
  {
   "cell_type": "code",
   "execution_count": 16,
   "metadata": {},
   "outputs": [
    {
     "name": "stdout",
     "output_type": "stream",
     "text": [
      "b = 1.653 ± 0.113\n",
      "a = 1.585 ± 0.673\n",
      "cov(a,b) = -0.06953399\n",
      "chi^2 = 12.338/18 ndof\n",
      "p = 0.829\n",
      "p = 0.829\n"
     ]
    }
   ],
   "source": [
    "x2 = x*x\n",
    "x2_mean = x2.mean()\n",
    "res2_mean = res2.mean()\n",
    "chi2 = res2_mean*n_points/(sigma*sigma)\n",
    "ndof = n_points-2\n",
    "var_b = res2_mean/dx2_mean/(n_points - 2)\n",
    "var_a = var_b*x2_mean\n",
    "cov_ab = -var_b*x_mean\n",
    "err_b = math.sqrt(var_b)\n",
    "err_a = math.sqrt(var_a)\n",
    "print('b = {:.3f} ± {:.3f}'.format(b_fit, err_b))\n",
    "print('a = {:.3f} ± {:.3f}'.format(a_fit, err_a))\n",
    "print('cov(a,b) = {:.8f}'.format(cov_ab))\n",
    "print('chi^2 = {:.3f}/{:d} ndof'.format(chi2, ndof))\n",
    "print('p = {:.3f}'.format(1 - stats.chi2.cdf(chi2, ndof)))\n",
    "print('p = {:.3f}'.format(stats.chi2.sf(chi2, ndof))) # più preciso per valori del p-value piccolo"
   ]
  },
  {
   "cell_type": "markdown",
   "metadata": {},
   "source": [
    "Confrontiamo con [```scipy.stats.linregress```](https://docs.scipy.org/doc/scipy/reference/generated/scipy.stats.linregress.html).\n",
    "\n",
    "<span style=\"color: blue\">Da notare che il $p$-value è relativo all'ipotesi che la pendenza sia zero, non è relativo al $\\chi^2$ del fit. Non va quindi confrontato con il precedente. Il significato del $p$-value sarà più chiaro nelle prossime lezioni.</span>\n",
    "\n",
    "<span style=\"color: red\">La funzione non implementa fit pesati.</span>"
   ]
  },
  {
   "cell_type": "code",
   "execution_count": 9,
   "metadata": {},
   "outputs": [
    {
     "name": "stdout",
     "output_type": "stream",
     "text": [
      "b =  1.6526425175558284\n",
      "a =  1.5851693388071002\n",
      "err =  0.11334596552526537\n",
      "R^2 =  0.9219398499541664\n",
      "p =  2.069982375190786e-11\n"
     ]
    }
   ],
   "source": [
    "slope, intercept, r_value, p_value, std_err = stats.linregress(x, y)\n",
    "print('b = ', slope)\n",
    "print('a = ', intercept)\n",
    "print('err = ', std_err)\n",
    "print('R^2 = ', r_value*r_value)\n",
    "print('p = ', p_value)"
   ]
  },
  {
   "cell_type": "markdown",
   "metadata": {},
   "source": [
    "Propagazione degli errori su $a$ e $b$, considerando il coefficiente di covarianza:\n",
    "\n",
    "$y = a + b x$\n",
    "\n",
    "$\\sigma_y^2 = \\sigma_a^2 + 2x\\,\\mathrm{cov}(a,b) + x^2\\sigma_b^2$"
   ]
  },
  {
   "cell_type": "code",
   "execution_count": 17,
   "metadata": {},
   "outputs": [],
   "source": [
    "y_err_fit = np.sqrt(var_a + 2*x*cov_ab + x2*var_b)\n",
    "y_lo_fit = y_fit - y_err_fit\n",
    "y_hi_fit = y_fit + y_err_fit"
   ]
  },
  {
   "cell_type": "code",
   "execution_count": 18,
   "metadata": {},
   "outputs": [
    {
     "data": {
      "image/png": "[encoded data removed]",
      "text/plain": [
       "<Figure size 1000x600 with 1 Axes>"
      ]
     },
     "metadata": {},
     "output_type": "display_data"
    }
   ],
   "source": [
    "plt.figure(figsize=(10, 6))\n",
    "plt.fill_between(x, y_lo_fit, y_hi_fit, facecolor='orange')\n",
    "plt.errorbar(x, y, yerr=sigma, fmt='o')\n",
    "plt.plot([x_min, x_max],[fit_line(x_min), fit_line(x_max)], color='darkred')\n",
    "plt.xlabel('x')\n",
    "plt.ylabel('y')\n",
    "plt.show()"
   ]
  },
  {
   "cell_type": "markdown",
   "metadata": {},
   "source": [
    "Possiamo costruzione un ```DataFrame``` pandas per visualizzazione della tabella e salvarlo in formato csv per poterlo importare in un foglio di calcolo."
   ]
  },
  {
   "cell_type": "code",
   "execution_count": 19,
   "metadata": {},
   "outputs": [
    {
     "data": {
      "text/html": [
       "<div>\n",
       "<style scoped>\n",
       "    .dataframe tbody tr th:only-of-type {\n",
       "        vertical-align: middle;\n",
       "    }\n",
       "\n",
       "    .dataframe tbody tr th {\n",
       "        vertical-align: top;\n",
       "    }\n",
       "\n",
       "    .dataframe thead th {\n",
       "        text-align: right;\n",
       "    }\n",
       "</style>\n",
       "<table border=\"1\" class=\"dataframe\">\n",
       "  <thead>\n",
       "    <tr style=\"text-align: right;\">\n",
       "      <th></th>\n",
       "      <th>x</th>\n",
       "      <th>y</th>\n",
       "      <th>dx</th>\n",
       "      <th>dy</th>\n",
       "      <th>x2</th>\n",
       "      <th>dxdy</th>\n",
       "      <th>dx2</th>\n",
       "      <th>y_fit</th>\n",
       "      <th>res</th>\n",
       "      <th>res2</th>\n",
       "      <th>y_err_fit</th>\n",
       "      <th>y_lo_fit</th>\n",
       "      <th>y_hi_fit</th>\n",
       "    </tr>\n",
       "  </thead>\n",
       "  <tbody>\n",
       "    <tr>\n",
       "      <th>0</th>\n",
       "      <td>1.386192</td>\n",
       "      <td>3.774379</td>\n",
       "      <td>-4.026147</td>\n",
       "      <td>-6.755452</td>\n",
       "      <td>1.921529</td>\n",
       "      <td>27.198442</td>\n",
       "      <td>16.209857</td>\n",
       "      <td>3.876050</td>\n",
       "      <td>-0.101671</td>\n",
       "      <td>0.010337</td>\n",
       "      <td>0.534199</td>\n",
       "      <td>3.341851</td>\n",
       "      <td>4.410248</td>\n",
       "    </tr>\n",
       "    <tr>\n",
       "      <th>1</th>\n",
       "      <td>1.795465</td>\n",
       "      <td>5.341353</td>\n",
       "      <td>-3.616874</td>\n",
       "      <td>-5.188478</td>\n",
       "      <td>3.223696</td>\n",
       "      <td>18.766071</td>\n",
       "      <td>13.081775</td>\n",
       "      <td>4.552432</td>\n",
       "      <td>0.788921</td>\n",
       "      <td>0.622396</td>\n",
       "      <td>0.495157</td>\n",
       "      <td>4.057274</td>\n",
       "      <td>5.047589</td>\n",
       "    </tr>\n",
       "    <tr>\n",
       "      <th>2</th>\n",
       "      <td>1.830278</td>\n",
       "      <td>4.591150</td>\n",
       "      <td>-3.582061</td>\n",
       "      <td>-5.938681</td>\n",
       "      <td>3.349916</td>\n",
       "      <td>21.272718</td>\n",
       "      <td>12.831163</td>\n",
       "      <td>4.609964</td>\n",
       "      <td>-0.018814</td>\n",
       "      <td>0.000354</td>\n",
       "      <td>0.491895</td>\n",
       "      <td>4.118069</td>\n",
       "      <td>5.101859</td>\n",
       "    </tr>\n",
       "    <tr>\n",
       "      <th>3</th>\n",
       "      <td>2.325508</td>\n",
       "      <td>5.654839</td>\n",
       "      <td>-3.086831</td>\n",
       "      <td>-4.874992</td>\n",
       "      <td>5.407987</td>\n",
       "      <td>15.048276</td>\n",
       "      <td>9.528526</td>\n",
       "      <td>5.428403</td>\n",
       "      <td>0.226437</td>\n",
       "      <td>0.051274</td>\n",
       "      <td>0.446689</td>\n",
       "      <td>4.981714</td>\n",
       "      <td>5.875092</td>\n",
       "    </tr>\n",
       "    <tr>\n",
       "      <th>4</th>\n",
       "      <td>3.478955</td>\n",
       "      <td>7.318064</td>\n",
       "      <td>-1.933384</td>\n",
       "      <td>-3.211767</td>\n",
       "      <td>12.103128</td>\n",
       "      <td>6.209579</td>\n",
       "      <td>3.737974</td>\n",
       "      <td>7.334638</td>\n",
       "      <td>-0.016574</td>\n",
       "      <td>0.000275</td>\n",
       "      <td>0.353749</td>\n",
       "      <td>6.980890</td>\n",
       "      <td>7.688387</td>\n",
       "    </tr>\n",
       "    <tr>\n",
       "      <th>5</th>\n",
       "      <td>3.738797</td>\n",
       "      <td>8.565553</td>\n",
       "      <td>-1.673542</td>\n",
       "      <td>-1.964278</td>\n",
       "      <td>13.978605</td>\n",
       "      <td>3.287300</td>\n",
       "      <td>2.800742</td>\n",
       "      <td>7.764065</td>\n",
       "      <td>0.801489</td>\n",
       "      <td>0.642384</td>\n",
       "      <td>0.336299</td>\n",
       "      <td>7.427766</td>\n",
       "      <td>8.100364</td>\n",
       "    </tr>\n",
       "    <tr>\n",
       "      <th>6</th>\n",
       "      <td>4.296287</td>\n",
       "      <td>9.287130</td>\n",
       "      <td>-1.116052</td>\n",
       "      <td>-1.242701</td>\n",
       "      <td>18.458079</td>\n",
       "      <td>1.386920</td>\n",
       "      <td>1.245573</td>\n",
       "      <td>8.685395</td>\n",
       "      <td>0.601734</td>\n",
       "      <td>0.362084</td>\n",
       "      <td>0.305151</td>\n",
       "      <td>8.380244</td>\n",
       "      <td>8.990547</td>\n",
       "    </tr>\n",
       "    <tr>\n",
       "      <th>7</th>\n",
       "      <td>5.002018</td>\n",
       "      <td>11.055870</td>\n",
       "      <td>-0.410321</td>\n",
       "      <td>0.526039</td>\n",
       "      <td>25.020181</td>\n",
       "      <td>-0.215845</td>\n",
       "      <td>0.168364</td>\n",
       "      <td>9.851716</td>\n",
       "      <td>1.204154</td>\n",
       "      <td>1.449987</td>\n",
       "      <td>0.281564</td>\n",
       "      <td>9.570153</td>\n",
       "      <td>10.133280</td>\n",
       "    </tr>\n",
       "    <tr>\n",
       "      <th>8</th>\n",
       "      <td>5.037255</td>\n",
       "      <td>7.301234</td>\n",
       "      <td>-0.375084</td>\n",
       "      <td>-3.228597</td>\n",
       "      <td>25.373942</td>\n",
       "      <td>1.210994</td>\n",
       "      <td>0.140688</td>\n",
       "      <td>9.909952</td>\n",
       "      <td>-2.608718</td>\n",
       "      <td>6.805411</td>\n",
       "      <td>0.280932</td>\n",
       "      <td>9.629020</td>\n",
       "      <td>10.190883</td>\n",
       "    </tr>\n",
       "    <tr>\n",
       "      <th>9</th>\n",
       "      <td>5.284519</td>\n",
       "      <td>10.079549</td>\n",
       "      <td>-0.127820</td>\n",
       "      <td>-0.450282</td>\n",
       "      <td>27.926146</td>\n",
       "      <td>0.057555</td>\n",
       "      <td>0.016338</td>\n",
       "      <td>10.318591</td>\n",
       "      <td>-0.239042</td>\n",
       "      <td>0.057141</td>\n",
       "      <td>0.278074</td>\n",
       "      <td>10.040517</td>\n",
       "      <td>10.596665</td>\n",
       "    </tr>\n",
       "    <tr>\n",
       "      <th>10</th>\n",
       "      <td>5.395607</td>\n",
       "      <td>10.775858</td>\n",
       "      <td>-0.016732</td>\n",
       "      <td>0.246027</td>\n",
       "      <td>29.112575</td>\n",
       "      <td>-0.004117</td>\n",
       "      <td>0.000280</td>\n",
       "      <td>10.502179</td>\n",
       "      <td>0.273679</td>\n",
       "      <td>0.074900</td>\n",
       "      <td>0.277703</td>\n",
       "      <td>10.224476</td>\n",
       "      <td>10.779881</td>\n",
       "    </tr>\n",
       "    <tr>\n",
       "      <th>11</th>\n",
       "      <td>5.838060</td>\n",
       "      <td>11.154389</td>\n",
       "      <td>0.425721</td>\n",
       "      <td>0.624558</td>\n",
       "      <td>34.082941</td>\n",
       "      <td>0.265887</td>\n",
       "      <td>0.181238</td>\n",
       "      <td>11.233395</td>\n",
       "      <td>-0.079006</td>\n",
       "      <td>0.006242</td>\n",
       "      <td>0.281857</td>\n",
       "      <td>10.951538</td>\n",
       "      <td>11.515252</td>\n",
       "    </tr>\n",
       "    <tr>\n",
       "      <th>12</th>\n",
       "      <td>6.018911</td>\n",
       "      <td>11.500670</td>\n",
       "      <td>0.606572</td>\n",
       "      <td>0.970839</td>\n",
       "      <td>36.227287</td>\n",
       "      <td>0.588884</td>\n",
       "      <td>0.367929</td>\n",
       "      <td>11.532277</td>\n",
       "      <td>-0.031607</td>\n",
       "      <td>0.000999</td>\n",
       "      <td>0.286080</td>\n",
       "      <td>11.246197</td>\n",
       "      <td>11.818358</td>\n",
       "    </tr>\n",
       "    <tr>\n",
       "      <th>13</th>\n",
       "      <td>6.687031</td>\n",
       "      <td>10.910130</td>\n",
       "      <td>1.274692</td>\n",
       "      <td>0.380299</td>\n",
       "      <td>44.716388</td>\n",
       "      <td>0.484764</td>\n",
       "      <td>1.624840</td>\n",
       "      <td>12.636442</td>\n",
       "      <td>-1.726312</td>\n",
       "      <td>2.980153</td>\n",
       "      <td>0.313033</td>\n",
       "      <td>12.323408</td>\n",
       "      <td>12.949475</td>\n",
       "    </tr>\n",
       "    <tr>\n",
       "      <th>14</th>\n",
       "      <td>6.769452</td>\n",
       "      <td>12.273446</td>\n",
       "      <td>1.357113</td>\n",
       "      <td>1.743615</td>\n",
       "      <td>45.825483</td>\n",
       "      <td>2.366283</td>\n",
       "      <td>1.841756</td>\n",
       "      <td>12.772654</td>\n",
       "      <td>-0.499208</td>\n",
       "      <td>0.249208</td>\n",
       "      <td>0.317453</td>\n",
       "      <td>12.455200</td>\n",
       "      <td>13.090107</td>\n",
       "    </tr>\n",
       "    <tr>\n",
       "      <th>15</th>\n",
       "      <td>7.205936</td>\n",
       "      <td>13.492309</td>\n",
       "      <td>1.793597</td>\n",
       "      <td>2.962479</td>\n",
       "      <td>51.925511</td>\n",
       "      <td>5.313492</td>\n",
       "      <td>3.216989</td>\n",
       "      <td>13.494005</td>\n",
       "      <td>-0.001696</td>\n",
       "      <td>0.000003</td>\n",
       "      <td>0.344158</td>\n",
       "      <td>13.149847</td>\n",
       "      <td>13.838163</td>\n",
       "    </tr>\n",
       "    <tr>\n",
       "      <th>16</th>\n",
       "      <td>8.698959</td>\n",
       "      <td>13.695392</td>\n",
       "      <td>3.286620</td>\n",
       "      <td>3.165561</td>\n",
       "      <td>75.671882</td>\n",
       "      <td>10.403994</td>\n",
       "      <td>10.801869</td>\n",
       "      <td>15.961438</td>\n",
       "      <td>-2.266047</td>\n",
       "      <td>5.134968</td>\n",
       "      <td>0.464640</td>\n",
       "      <td>15.496799</td>\n",
       "      <td>16.426078</td>\n",
       "    </tr>\n",
       "    <tr>\n",
       "      <th>17</th>\n",
       "      <td>8.831592</td>\n",
       "      <td>15.807013</td>\n",
       "      <td>3.419253</td>\n",
       "      <td>5.277182</td>\n",
       "      <td>77.997022</td>\n",
       "      <td>18.044023</td>\n",
       "      <td>11.691293</td>\n",
       "      <td>16.180634</td>\n",
       "      <td>-0.373621</td>\n",
       "      <td>0.139592</td>\n",
       "      <td>0.476777</td>\n",
       "      <td>15.703857</td>\n",
       "      <td>16.657412</td>\n",
       "    </tr>\n",
       "    <tr>\n",
       "      <th>18</th>\n",
       "      <td>9.056586</td>\n",
       "      <td>17.911644</td>\n",
       "      <td>3.644247</td>\n",
       "      <td>7.381813</td>\n",
       "      <td>82.021758</td>\n",
       "      <td>26.901152</td>\n",
       "      <td>13.280539</td>\n",
       "      <td>16.552469</td>\n",
       "      <td>1.359174</td>\n",
       "      <td>1.847355</td>\n",
       "      <td>0.497729</td>\n",
       "      <td>16.054740</td>\n",
       "      <td>17.050198</td>\n",
       "    </tr>\n",
       "    <tr>\n",
       "      <th>19</th>\n",
       "      <td>9.569372</td>\n",
       "      <td>20.106647</td>\n",
       "      <td>4.157033</td>\n",
       "      <td>9.576816</td>\n",
       "      <td>91.572874</td>\n",
       "      <td>39.811138</td>\n",
       "      <td>17.280920</td>\n",
       "      <td>17.399920</td>\n",
       "      <td>2.706727</td>\n",
       "      <td>7.326373</td>\n",
       "      <td>0.546926</td>\n",
       "      <td>16.852993</td>\n",
       "      <td>17.946846</td>\n",
       "    </tr>\n",
       "  </tbody>\n",
       "</table>\n",
       "</div>"
      ],
      "text/plain": [
       "           x          y        dx        dy         x2       dxdy        dx2  \\\n",
       "0   1.386192   3.774379 -4.026147 -6.755452   1.921529  27.198442  16.209857   \n",
       "1   1.795465   5.341353 -3.616874 -5.188478   3.223696  18.766071  13.081775   \n",
       "2   1.830278   4.591150 -3.582061 -5.938681   3.349916  21.272718  12.831163   \n",
       "3   2.325508   5.654839 -3.086831 -4.874992   5.407987  15.048276   9.528526   \n",
       "4   3.478955   7.318064 -1.933384 -3.211767  12.103128   6.209579   3.737974   \n",
       "5   3.738797   8.565553 -1.673542 -1.964278  13.978605   3.287300   2.800742   \n",
       "6   4.296287   9.287130 -1.116052 -1.242701  18.458079   1.386920   1.245573   \n",
       "7   5.002018  11.055870 -0.410321  0.526039  25.020181  -0.215845   0.168364   \n",
       "8   5.037255   7.301234 -0.375084 -3.228597  25.373942   1.210994   0.140688   \n",
       "9   5.284519  10.079549 -0.127820 -0.450282  27.926146   0.057555   0.016338   \n",
       "10  5.395607  10.775858 -0.016732  0.246027  29.112575  -0.004117   0.000280   \n",
       "11  5.838060  11.154389  0.425721  0.624558  34.082941   0.265887   0.181238   \n",
       "12  6.018911  11.500670  0.606572  0.970839  36.227287   0.588884   0.367929   \n",
       "13  6.687031  10.910130  1.274692  0.380299  44.716388   0.484764   1.624840   \n",
       "14  6.769452  12.273446  1.357113  1.743615  45.825483   2.366283   1.841756   \n",
       "15  7.205936  13.492309  1.793597  2.962479  51.925511   5.313492   3.216989   \n",
       "16  8.698959  13.695392  3.286620  3.165561  75.671882  10.403994  10.801869   \n",
       "17  8.831592  15.807013  3.419253  5.277182  77.997022  18.044023  11.691293   \n",
       "18  9.056586  17.911644  3.644247  7.381813  82.021758  26.901152  13.280539   \n",
       "19  9.569372  20.106647  4.157033  9.576816  91.572874  39.811138  17.280920   \n",
       "\n",
       "        y_fit       res      res2  y_err_fit   y_lo_fit   y_hi_fit  \n",
       "0    3.876050 -0.101671  0.010337   0.534199   3.341851   4.410248  \n",
       "1    4.552432  0.788921  0.622396   0.495157   4.057274   5.047589  \n",
       "2    4.609964 -0.018814  0.000354   0.491895   4.118069   5.101859  \n",
       "3    5.428403  0.226437  0.051274   0.446689   4.981714   5.875092  \n",
       "4    7.334638 -0.016574  0.000275   0.353749   6.980890   7.688387  \n",
       "5    7.764065  0.801489  0.642384   0.336299   7.427766   8.100364  \n",
       "6    8.685395  0.601734  0.362084   0.305151   8.380244   8.990547  \n",
       "7    9.851716  1.204154  1.449987   0.281564   9.570153  10.133280  \n",
       "8    9.909952 -2.608718  6.805411   0.280932   9.629020  10.190883  \n",
       "9   10.318591 -0.239042  0.057141   0.278074  10.040517  10.596665  \n",
       "10  10.502179  0.273679  0.074900   0.277703  10.224476  10.779881  \n",
       "11  11.233395 -0.079006  0.006242   0.281857  10.951538  11.515252  \n",
       "12  11.532277 -0.031607  0.000999   0.286080  11.246197  11.818358  \n",
       "13  12.636442 -1.726312  2.980153   0.313033  12.323408  12.949475  \n",
       "14  12.772654 -0.499208  0.249208   0.317453  12.455200  13.090107  \n",
       "15  13.494005 -0.001696  0.000003   0.344158  13.149847  13.838163  \n",
       "16  15.961438 -2.266047  5.134968   0.464640  15.496799  16.426078  \n",
       "17  16.180634 -0.373621  0.139592   0.476777  15.703857  16.657412  \n",
       "18  16.552469  1.359174  1.847355   0.497729  16.054740  17.050198  \n",
       "19  17.399920  2.706727  7.326373   0.546926  16.852993  17.946846  "
      ]
     },
     "execution_count": 19,
     "metadata": {},
     "output_type": "execute_result"
    }
   ],
   "source": [
    "df = pd.DataFrame({'x': x, 'y':y, 'dx': dx, 'dy': dy, 'x2': x2, 'dxdy': dxdy, 'dx2': dx2,\n",
    "    'y_fit': y_fit, 'res': res, 'res2': res2,\n",
    "    'y_err_fit': y_err_fit, 'y_lo_fit': y_lo_fit, 'y_hi_fit': y_hi_fit})\n",
    "df.to_csv('output/linear_regression.csv')\n",
    "df"
   ]
  },
  {
   "cell_type": "markdown",
   "metadata": {},
   "source": [
    "Implementazione con ```curve_fit```"
   ]
  },
  {
   "cell_type": "code",
   "execution_count": 20,
   "metadata": {},
   "outputs": [
    {
     "data": {
      "image/png": "[encoded data removed]",
      "text/plain": [
       "<Figure size 1000x600 with 1 Axes>"
      ]
     },
     "metadata": {},
     "output_type": "display_data"
    }
   ],
   "source": [
    "from scipy.optimize import curve_fit\n",
    "def model(x, a, b):\n",
    "    return a + b*x\n",
    "par, cov = curve_fit(model, x, y, p0=[0, 1]) # absolute_sigma=False è il default\n",
    "fig, ax = plt.subplots(figsize=(10, 6))\n",
    "ax.errorbar(x, y, xerr=0, yerr=sigma, marker='o', linestyle='')\n",
    "xs = np.linspace(df.x.values[0], df.x.values[-1], 100)\n",
    "ax.plot(xs, model(xs, *par), label='fit line')\n",
    "ax.set_xlabel('x')\n",
    "ax.set_ylabel('y')\n",
    "fig.show()"
   ]
  }
 ],
 "metadata": {
  "kernelspec": {
   "display_name": "Python 3 (ipykernel)",
   "language": "python",
   "name": "python3"
  },
  "language_info": {
   "codemirror_mode": {
    "name": "ipython",
    "version": 3
   },
   "file_extension": ".py",
   "mimetype": "text/x-python",
   "name": "python",
   "nbconvert_exporter": "python",
   "pygments_lexer": "ipython3",
   "version": "3.11.6"
  }
 },
 "nbformat": 4,
 "nbformat_minor": 4
}
